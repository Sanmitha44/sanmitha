{
  "metadata": {
    "kernelspec": {
      "language": "python",
      "display_name": "Python 3",
      "name": "python3"
    },
    "language_info": {
      "pygments_lexer": "ipython3",
      "nbconvert_exporter": "python",
      "version": "3.6.4",
      "file_extension": ".py",
      "codemirror_mode": {
        "name": "ipython",
        "version": 3
      },
      "name": "python",
      "mimetype": "text/x-python"
    },
    "kaggle": {
      "accelerator": "none",
      "dataSources": [],
      "isInternetEnabled": false,
      "language": "python",
      "sourceType": "notebook",
      "isGpuEnabled": false
    },
    "colab": {
      "name": "notebookcdb9e7ce76",
      "provenance": [],
      "include_colab_link": true
    }
  },
  "nbformat_minor": 0,
  "nbformat": 4,
  "cells": [
    {
      "cell_type": "markdown",
      "metadata": {
        "id": "view-in-github",
        "colab_type": "text"
      },
      "source": [
        "<a href=\"https://colab.research.google.com/github/Sanmitha44/sanmitha/blob/main/notebookcdb9e7ce76.ipynb\" target=\"_parent\"><img src=\"https://colab.research.google.com/assets/colab-badge.svg\" alt=\"Open In Colab\"/></a>"
      ]
    },
    {
      "cell_type": "code",
      "source": [
        "#include <stdio.h>\n",
        "\n",
        "int main() {\n",
        "    // Declare variables to store the two numbers\n",
        "    int num1, num2, sum;\n",
        "\n",
        "    // Ask the user for input\n",
        "    printf(\"Enter the first number: \");\n",
        "    scanf(\"%d\", &num1);\n",
        "\n",
        "    printf(\"Enter the second number: \");\n",
        "    scanf(\"%d\", &num2);\n",
        "\n",
        "    // Calculate the sum of the two numbers\n",
        "    sum = num1 + num2;\n",
        "\n",
        "    // Display the result\n",
        "    printf(\"The sum of %d and %d is: %d\\n\", num1, num2, sum);\n",
        "\n",
        "    return 0;\n",
        "}\n"
      ],
      "metadata": {
        "_uuid": "8f2839f25d086af736a60e9eeb907d3b93b6e0e5",
        "_cell_guid": "b1076dfc-b9ad-4769-8c92-a6c4dae69d19",
        "trusted": true,
        "id": "1-aFFHRJTeK0"
      },
      "outputs": [],
      "execution_count": null
    }
  ]
}